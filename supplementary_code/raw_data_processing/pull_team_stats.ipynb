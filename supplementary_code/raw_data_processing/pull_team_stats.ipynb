from pybaseball import batting_stats, pitching_stats
import pandas as pd

# Fetch 2023 player-level batting and pitching data
batters_2023 = batting_stats(2023)
pitchers_2023 = pitching_stats(2023)

# Filter for White Sox (CHW) and Cubs (CHC)
white_sox_batters = batters_2023[batters_2023['Team'] == 'CHW']
cubs_batters = batters_2023[batters_2023['Team'] == 'CHC']

white_sox_pitchers = pitchers_2023[pitchers_2023['Team'] == 'CHW']
cubs_pitchers = pitchers_2023[pitchers_2023['Team'] == 'CHC']

# Save to CSV
white_sox_batters.to_csv('../prepared_data/white_sox_batters_2023.csv', index=False)
cubs_batters.to_csv('../prepared_data/cubs_batters_2023.csv', index=False)
white_sox_pitchers.to_csv('../prepared_data/white_sox_pitchers_2023.csv', index=False)
cubs_pitchers.to_csv('../prepared_data/cubs_pitchers_2023.csv', index=False)

print("Batting and pitching stats saved successfully.")
